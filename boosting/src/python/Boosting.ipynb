{
 "cells": [
  {
   "cell_type": "markdown",
   "metadata": {},
   "source": [
    "<h1>Композиция методов. Бустинг"
   ]
  },
  {
   "cell_type": "code",
   "execution_count": 1,
   "metadata": {},
   "outputs": [],
   "source": [
    "import pandas as pd\n",
    "import numpy as np\n",
    "import random\n",
    "import warnings\n",
    "from sklearn.datasets import load_breast_cancer\n",
    "from sklearn.model_selection import train_test_split,learning_curve\n",
    "from sklearn import metrics, ensemble\n",
    "import matplotlib.pyplot as plt\n",
    "import statistics\n",
    "from sklearn.metrics import confusion_matrix"
   ]
  },
  {
   "cell_type": "code",
   "execution_count": 2,
   "metadata": {},
   "outputs": [],
   "source": [
    "import xgboost as xgb\n",
    "from sklearn.metrics import accuracy_score"
   ]
  },
  {
   "cell_type": "code",
   "execution_count": 3,
   "metadata": {},
   "outputs": [],
   "source": [
    "from sklearn.tree import DecisionTreeClassifier\n",
    "from sklearn.ensemble import RandomForestClassifier, RandomForestRegressor\n",
    "from sklearn.ensemble import BaggingClassifier\n",
    "from sklearn.metrics import accuracy_score\n",
    "from sklearn.model_selection import cross_val_score, GridSearchCV"
   ]
  },
  {
   "cell_type": "markdown",
   "metadata": {},
   "source": [
    "<h2>Boosting"
   ]
  },
  {
   "cell_type": "markdown",
   "metadata": {},
   "source": [
    "Одна из самых популярных библиотек при работе с бустингом -- xgboost. Он реализует алгоритм градиентного бустинга в довольно общем виде. \n",
    "\n",
    "Рассмотрим параметры XGboost. Выделяют три группы параметров:\n",
    "* Общие параметры, отвечающие за базовый алгоритм для бустинга и распараллеливание.\n",
    "* Параметры выбранного базового алгоритма.\n",
    "* Параметры обучения, отвечающие за функцию потерь и метрику качества на валидации.\n",
    "\n",
    "<h4>Общие параметры:</h4>\n",
    "\n",
    "* booster - тип базового алгоритма для бустинга: дерево решений gbtree или линейная модель gblinear, dart.\n",
    "* silent(/verbosity)  - выдавать (silent=0) или нет (silent=1) сообщения по ходу работы алгоритма. (Valid values are 0 (silent) - 3 (debug).)\n",
    "* nthread (/n_jobs)- число нитей доступных для параллельной работы xgboost.\n",
    "\n",
    "<h4>Параметры базового алгоритма:</h4>\n",
    "\n",
    "<h5>Дерево решений:</h5>\n",
    "\n",
    "* eta (/learning_rate) - темп обучения, перед добавлением дерева в композицию оно умножается на eta. Используется для предотвращения переобучения за счёт \"сокращения\" весов базовых алгоритмов, делая модель более консервативной. Чем меньше eta, тем больше нужно итераций num_boost_round для обучения модели с хорошим качеством. Диапазон: $[0, 1]$\n",
    "* gamma - минимальное снижение значения функции потерь, необходимое для дальнейшего разбиения вершины дерева. Большие значения gamma > 0 приводят к более консервативным моделям. Диапазон: $[0, \\infty)$.\n",
    "* max_depth - максимальная глубина дерева. Диапазон: [1, $\\infty$).\n",
    "* min_child_weight - минимальное необходимое (взвешенное) число примеров в каждой вершине. Чем больше, тем более консервативна итоговая модель. Диапазон: $[0, \\infty)$.\n",
    "* max_delta_step - обычно равен нулю. Положительные значения используются при несбалансированных классах для ускорения сходимости. Диапазон $[0, \\infty)$.\n",
    "* subsample - доля выборки, используемая для обучения каждого дерева. Если subsample < 1, то выбирается случайная подвыборка, что помогает в борьбе с переобучением. Диапазон: $(0, 1]$\n",
    "* colsample_bytree - доля признаков, используемая для обучения каждого дерева. Диапазон: $(0, 1]$\n",
    "* lambda (/reg_lambda) - коэффициент перед $L_2$-регуляризатором в функции потерь.\n",
    "* alpha (/reg_alpha) - коэффициент перед $L_1$-регуляризатором в функции потерь.\n",
    "\n",
    "<h5>Линейная модель:</h5>\n",
    "* lambda - коэффициент перед $L_2$-регуляризатором вектора весов в функции потерь.\n",
    "* alpha  - коэффициент перед $L_1$-регуляризатором вектора весов в функции потерь.\n",
    "* lambda_bias - коэффициент перед $L_2$-регуляризатором смещения (свободного члена) в функции потерь.\n",
    "\n",
    "<h4>Параметры задачи обучения:</h4>\n",
    "\n",
    "* objective - используемая при обучении функция потерь:\n",
    "\n",
    "\"reg:linear\" – линейная регрессия.\n",
    "\"reg:logistic\" – логистическая регрессия.\n",
    "\"binary:logistic\" – логистическая регрессия для бинарной классификации, на выходе - вероятность.\n",
    "\"binary:logitraw\" – то же самое, но на выходе - значение до его преобразования логистической функцией.\n",
    "\"count:poisson\" – регрессия Пуассона (используется для оценки числа каких-то событий, счётный признак), на выходе - матожидания распределения Пуассона. В этом случае max_delta_step автоматически устанавливается равным 0.7.\n",
    "\"multi:softmax\" – обобщение логистической регрессии на многоклассовый случай. При этом нужно задать параметр num_class.\n",
    "\"multi:softprob\" – то же самое, но на выходе - вектор размера ndata * nclass, который можно преобразовать в матрицу, содержащую вероятности отнесения данного объекта к данному классу.\n",
    "\"rank:pairwise\" – используется для задач ранжирования.\n",
    "\n",
    "* base_score [default=0.5] - инициализация значения модели для всех примеров, глобальное смещение.\n",
    "* eval_metric [default according to objective] - метрика качества на валидационной выборке (по умолчанию соответствует функции потерь: rmse - для регрессии, error - для классификации, mean average precision - для ранжирования). Выбрать можно одну из следующих метрик:\n",
    "\"rmse\": root mean square error.\n",
    "\"logloss\": минус логарифм правдоподобия.\n",
    "\"error\": доля ошибок для бинарной классификации.\n",
    "\"merror\": то же самое для многоклассовой классификации.\n",
    "\"mlogloss\": logloss для многоклассовой классификации.\n",
    "\"auc\": AUC.\n",
    "\"ndcg\": Normalized Discounted Cumulative Gain.\n",
    "\"map\": Mean average precision.\n",
    "\"ndcg@n\",”map@n”: здесь n - целое число, первые n позиций в списке не учитываются.\n",
    "\"ndcg-\",”map-”,”ndcg@n-”,”map@n-”: списку из всех положительных примеров будет присвоено значение 0 (вместо 1).\n",
    "* seed (/random_state) - для воспроизводимости \"случайности\".\n"
   ]
  },
  {
   "cell_type": "markdown",
   "metadata": {},
   "source": [
    "Эти параметры используются при вызове, например, методов XGBClassifier() и XGBRegressor().  "
   ]
  },
  {
   "cell_type": "markdown",
   "metadata": {},
   "source": [
    "Иногда удобнее использовать метод train (xgboost.train), так как он имеет некоторые дополнительные возможности. (Например, тут можно вводить произвольную функцию потерь и функцию оценки качества).\n",
    "\n",
    "<h4>Параметры в xgboost.train:</h4>\n",
    "\n",
    "* params (dict) – параметры, описанные выше.\n",
    "* dtrain (DMatrix) – обучающая выборка.\n",
    "* num_boost_round (int) – число итераций бустинга.\n",
    "* evals (list) – список для оценки качества во время обучения.\n",
    "* obj (function) – собственная функция потерь.\n",
    "* feval (function) – собственная функция для оценки качества.\n",
    "* maximize (bool) – нужно ли максимизировать feval.\n",
    "* early_stopping_rounds (int) – активирует early stopping. Ошибка на валидации должна уменьшаться каждые early_stopping_rounds итераций для продолжения обучения. Список evals должен быть не пуст. Возвращается модель с последней итерации. Если произошел ранний останов, то модель будет содержать поля: bst.best_score и bst.best_iteration.\n",
    "* evals_result (dict) – результаты оценки качества.\n",
    "* verbose_eval (bool) – вывод значения метрики качества на каждой итерации бустинга.\n",
    "* learning_rates (list or function) – коэффициент скорости обучения для каждой итерации - list l: eta = l[boosting round] - function f: eta = f(boosting round, num_boost_round).\n",
    "* xgb_model (file name of stored xgb model or ‘Booster’ instance) – возможность продолжить обучения имеющейся модели XGB."
   ]
  },
  {
   "cell_type": "markdown",
   "metadata": {},
   "source": [
    "Note that XGBoost does not provide specialization for categorical features; if your data contains categorical features, load it as a NumPy array first and then perform one-hot encoding."
   ]
  },
  {
   "cell_type": "markdown",
   "metadata": {},
   "source": [
    "<h2>Регрессия"
   ]
  },
  {
   "cell_type": "code",
   "execution_count": 30,
   "metadata": {},
   "outputs": [
    {
     "data": {
      "text/plain": [
       "(20640, 8)"
      ]
     },
     "execution_count": 30,
     "metadata": {},
     "output_type": "execute_result"
    }
   ],
   "source": [
    "df.shape"
   ]
  },
  {
   "cell_type": "code",
   "execution_count": 37,
   "metadata": {},
   "outputs": [
    {
     "data": {
      "text/html": [
       "<div>\n",
       "<style scoped>\n",
       "    .dataframe tbody tr th:only-of-type {\n",
       "        vertical-align: middle;\n",
       "    }\n",
       "\n",
       "    .dataframe tbody tr th {\n",
       "        vertical-align: top;\n",
       "    }\n",
       "\n",
       "    .dataframe thead th {\n",
       "        text-align: right;\n",
       "    }\n",
       "</style>\n",
       "<table border=\"1\" class=\"dataframe\">\n",
       "  <thead>\n",
       "    <tr style=\"text-align: right;\">\n",
       "      <th></th>\n",
       "      <th>longitude</th>\n",
       "      <th>latitude</th>\n",
       "      <th>housing_median_age</th>\n",
       "      <th>total_rooms</th>\n",
       "      <th>population</th>\n",
       "      <th>households</th>\n",
       "      <th>median_income</th>\n",
       "      <th>median_house_value</th>\n",
       "    </tr>\n",
       "  </thead>\n",
       "  <tbody>\n",
       "    <tr>\n",
       "      <th>0</th>\n",
       "      <td>-122.23</td>\n",
       "      <td>37.88</td>\n",
       "      <td>41.0</td>\n",
       "      <td>880.0</td>\n",
       "      <td>322.0</td>\n",
       "      <td>126.0</td>\n",
       "      <td>8.3252</td>\n",
       "      <td>452600.0</td>\n",
       "    </tr>\n",
       "    <tr>\n",
       "      <th>1</th>\n",
       "      <td>-122.22</td>\n",
       "      <td>37.86</td>\n",
       "      <td>21.0</td>\n",
       "      <td>7099.0</td>\n",
       "      <td>2401.0</td>\n",
       "      <td>1138.0</td>\n",
       "      <td>8.3014</td>\n",
       "      <td>358500.0</td>\n",
       "    </tr>\n",
       "    <tr>\n",
       "      <th>2</th>\n",
       "      <td>-122.24</td>\n",
       "      <td>37.85</td>\n",
       "      <td>52.0</td>\n",
       "      <td>1467.0</td>\n",
       "      <td>496.0</td>\n",
       "      <td>177.0</td>\n",
       "      <td>7.2574</td>\n",
       "      <td>352100.0</td>\n",
       "    </tr>\n",
       "    <tr>\n",
       "      <th>3</th>\n",
       "      <td>-122.25</td>\n",
       "      <td>37.85</td>\n",
       "      <td>52.0</td>\n",
       "      <td>1274.0</td>\n",
       "      <td>558.0</td>\n",
       "      <td>219.0</td>\n",
       "      <td>5.6431</td>\n",
       "      <td>341300.0</td>\n",
       "    </tr>\n",
       "    <tr>\n",
       "      <th>4</th>\n",
       "      <td>-122.25</td>\n",
       "      <td>37.85</td>\n",
       "      <td>52.0</td>\n",
       "      <td>1627.0</td>\n",
       "      <td>565.0</td>\n",
       "      <td>259.0</td>\n",
       "      <td>3.8462</td>\n",
       "      <td>342200.0</td>\n",
       "    </tr>\n",
       "  </tbody>\n",
       "</table>\n",
       "</div>"
      ],
      "text/plain": [
       "   longitude  latitude  housing_median_age  total_rooms  population  \\\n",
       "0    -122.23     37.88                41.0        880.0       322.0   \n",
       "1    -122.22     37.86                21.0       7099.0      2401.0   \n",
       "2    -122.24     37.85                52.0       1467.0       496.0   \n",
       "3    -122.25     37.85                52.0       1274.0       558.0   \n",
       "4    -122.25     37.85                52.0       1627.0       565.0   \n",
       "\n",
       "   households  median_income  median_house_value  \n",
       "0       126.0         8.3252            452600.0  \n",
       "1      1138.0         8.3014            358500.0  \n",
       "2       177.0         7.2574            352100.0  \n",
       "3       219.0         5.6431            341300.0  \n",
       "4       259.0         3.8462            342200.0  "
      ]
     },
     "execution_count": 37,
     "metadata": {},
     "output_type": "execute_result"
    }
   ],
   "source": [
    "import math\n",
    "from sklearn import preprocessing\n",
    "house=pd.read_csv('housing.csv')\n",
    "df=house.drop('ocean_proximity',axis=1)\n",
    "df=df.drop('total_bedrooms',axis=1)\n",
    "df.head()\n"
   ]
  },
  {
   "cell_type": "code",
   "execution_count": 38,
   "metadata": {
    "scrolled": true
   },
   "outputs": [
    {
     "data": {
      "text/html": [
       "<div>\n",
       "<style scoped>\n",
       "    .dataframe tbody tr th:only-of-type {\n",
       "        vertical-align: middle;\n",
       "    }\n",
       "\n",
       "    .dataframe tbody tr th {\n",
       "        vertical-align: top;\n",
       "    }\n",
       "\n",
       "    .dataframe thead th {\n",
       "        text-align: right;\n",
       "    }\n",
       "</style>\n",
       "<table border=\"1\" class=\"dataframe\">\n",
       "  <thead>\n",
       "    <tr style=\"text-align: right;\">\n",
       "      <th></th>\n",
       "      <th>longitude</th>\n",
       "      <th>latitude</th>\n",
       "      <th>housing_median_age</th>\n",
       "      <th>total_rooms</th>\n",
       "      <th>population</th>\n",
       "      <th>households</th>\n",
       "      <th>median_income</th>\n",
       "      <th>median_house_value</th>\n",
       "    </tr>\n",
       "  </thead>\n",
       "  <tbody>\n",
       "    <tr>\n",
       "      <th>0</th>\n",
       "      <td>-0.327679</td>\n",
       "      <td>0.259744</td>\n",
       "      <td>0.242370</td>\n",
       "      <td>-0.198611</td>\n",
       "      <td>-0.240466</td>\n",
       "      <td>-0.241109</td>\n",
       "      <td>0.578634</td>\n",
       "      <td>0.525543</td>\n",
       "    </tr>\n",
       "    <tr>\n",
       "      <th>1</th>\n",
       "      <td>-0.311025</td>\n",
       "      <td>0.245272</td>\n",
       "      <td>-0.142721</td>\n",
       "      <td>0.481027</td>\n",
       "      <td>0.202540</td>\n",
       "      <td>0.392639</td>\n",
       "      <td>0.548353</td>\n",
       "      <td>0.308983</td>\n",
       "    </tr>\n",
       "    <tr>\n",
       "      <th>2</th>\n",
       "      <td>-0.373485</td>\n",
       "      <td>0.291009</td>\n",
       "      <td>0.520139</td>\n",
       "      <td>-0.150127</td>\n",
       "      <td>-0.229998</td>\n",
       "      <td>-0.236404</td>\n",
       "      <td>0.499548</td>\n",
       "      <td>0.352711</td>\n",
       "    </tr>\n",
       "    <tr>\n",
       "      <th>3</th>\n",
       "      <td>-0.421867</td>\n",
       "      <td>0.327481</td>\n",
       "      <td>0.585327</td>\n",
       "      <td>-0.196839</td>\n",
       "      <td>-0.241559</td>\n",
       "      <td>-0.231390</td>\n",
       "      <td>0.294201</td>\n",
       "      <td>0.367402</td>\n",
       "    </tr>\n",
       "    <tr>\n",
       "      <th>4</th>\n",
       "      <td>-0.449030</td>\n",
       "      <td>0.348567</td>\n",
       "      <td>0.623015</td>\n",
       "      <td>-0.155203</td>\n",
       "      <td>-0.255038</td>\n",
       "      <td>-0.211173</td>\n",
       "      <td>-0.004323</td>\n",
       "      <td>0.393676</td>\n",
       "    </tr>\n",
       "  </tbody>\n",
       "</table>\n",
       "</div>"
      ],
      "text/plain": [
       "   longitude  latitude  housing_median_age  total_rooms  population  \\\n",
       "0  -0.327679  0.259744            0.242370    -0.198611   -0.240466   \n",
       "1  -0.311025  0.245272           -0.142721     0.481027    0.202540   \n",
       "2  -0.373485  0.291009            0.520139    -0.150127   -0.229998   \n",
       "3  -0.421867  0.327481            0.585327    -0.196839   -0.241559   \n",
       "4  -0.449030  0.348567            0.623015    -0.155203   -0.255038   \n",
       "\n",
       "   households  median_income  median_house_value  \n",
       "0   -0.241109       0.578634            0.525543  \n",
       "1    0.392639       0.548353            0.308983  \n",
       "2   -0.236404       0.499548            0.352711  \n",
       "3   -0.231390       0.294201            0.367402  \n",
       "4   -0.211173      -0.004323            0.393676  "
      ]
     },
     "execution_count": 38,
     "metadata": {},
     "output_type": "execute_result"
    }
   ],
   "source": [
    "df = preprocessing.scale(df)\n",
    "df = preprocessing.normalize(df)\n",
    "df=pd.DataFrame(df,columns=['longitude','latitude','housing_median_age','total_rooms','population','households','median_income','median_house_value'])\n",
    "df.head()"
   ]
  },
  {
   "cell_type": "markdown",
   "metadata": {},
   "source": [
    "Итак, данные содержат 8 количественных переменных и 20640 наблюдений. Будем предсказывать среднюю стоимость дома."
   ]
  },
  {
   "cell_type": "markdown",
   "metadata": {},
   "source": [
    "Разобьем на тренировочную и тестовую выборки:"
   ]
  },
  {
   "cell_type": "code",
   "execution_count": 39,
   "metadata": {},
   "outputs": [
    {
     "name": "stderr",
     "output_type": "stream",
     "text": [
      "c:\\users\\user\\appdata\\local\\programs\\python\\python37-32\\lib\\site-packages\\xgboost\\core.py:587: FutureWarning: Series.base is deprecated and will be removed in a future version\n",
      "  if getattr(data, 'base', None) is not None and \\\n"
     ]
    }
   ],
   "source": [
    "X_train, X_test, y_train, y_test = train_test_split(df.drop('median_house_value', axis=1), df['median_house_value'],\n",
    "                                                    test_size=0.3,random_state=17)\n",
    "dtrain = xgb.DMatrix(X_train, y_train)\n",
    "dtest = xgb.DMatrix(X_test, y_test)"
   ]
  },
  {
   "cell_type": "code",
   "execution_count": 7,
   "metadata": {},
   "outputs": [],
   "source": [
    "params = {\n",
    "    'objective':'reg:linear',\n",
    "    'max_depth':3,\n",
    "    'silent':1,\n",
    "    'eta':0.5\n",
    "}\n",
    "\n",
    "num_rounds = 50"
   ]
  },
  {
   "cell_type": "code",
   "execution_count": 8,
   "metadata": {
    "scrolled": true
   },
   "outputs": [
    {
     "name": "stdout",
     "output_type": "stream",
     "text": [
      "[0]\ttest-rmse:0.408757\ttrain-rmse:0.406821\n",
      "[1]\ttest-rmse:0.311944\ttrain-rmse:0.310529\n",
      "[2]\ttest-rmse:0.277269\ttrain-rmse:0.273795\n",
      "[3]\ttest-rmse:0.2594\ttrain-rmse:0.255093\n",
      "[4]\ttest-rmse:0.24196\ttrain-rmse:0.238231\n",
      "[5]\ttest-rmse:0.235528\ttrain-rmse:0.230975\n",
      "[6]\ttest-rmse:0.230175\ttrain-rmse:0.225028\n",
      "[7]\ttest-rmse:0.22548\ttrain-rmse:0.219497\n",
      "[8]\ttest-rmse:0.222659\ttrain-rmse:0.216382\n",
      "[9]\ttest-rmse:0.220054\ttrain-rmse:0.213088\n",
      "[10]\ttest-rmse:0.218365\ttrain-rmse:0.211144\n",
      "[11]\ttest-rmse:0.216398\ttrain-rmse:0.208697\n",
      "[12]\ttest-rmse:0.21474\ttrain-rmse:0.206563\n",
      "[13]\ttest-rmse:0.213086\ttrain-rmse:0.204635\n",
      "[14]\ttest-rmse:0.212154\ttrain-rmse:0.203358\n",
      "[15]\ttest-rmse:0.211266\ttrain-rmse:0.202152\n",
      "[16]\ttest-rmse:0.209297\ttrain-rmse:0.200156\n",
      "[17]\ttest-rmse:0.2078\ttrain-rmse:0.198544\n",
      "[18]\ttest-rmse:0.206969\ttrain-rmse:0.197394\n",
      "[19]\ttest-rmse:0.206233\ttrain-rmse:0.196365\n",
      "[20]\ttest-rmse:0.202175\ttrain-rmse:0.192385\n",
      "[21]\ttest-rmse:0.200897\ttrain-rmse:0.19085\n",
      "[22]\ttest-rmse:0.200333\ttrain-rmse:0.189893\n",
      "[23]\ttest-rmse:0.200049\ttrain-rmse:0.189178\n",
      "[24]\ttest-rmse:0.199357\ttrain-rmse:0.188391\n",
      "[25]\ttest-rmse:0.198823\ttrain-rmse:0.187611\n",
      "[26]\ttest-rmse:0.197276\ttrain-rmse:0.185791\n",
      "[27]\ttest-rmse:0.19671\ttrain-rmse:0.184835\n",
      "[28]\ttest-rmse:0.196572\ttrain-rmse:0.184476\n",
      "[29]\ttest-rmse:0.196182\ttrain-rmse:0.184014\n",
      "[30]\ttest-rmse:0.195778\ttrain-rmse:0.183192\n",
      "[31]\ttest-rmse:0.195383\ttrain-rmse:0.182575\n",
      "[32]\ttest-rmse:0.194255\ttrain-rmse:0.181649\n",
      "[33]\ttest-rmse:0.193848\ttrain-rmse:0.180947\n",
      "[34]\ttest-rmse:0.193403\ttrain-rmse:0.180426\n",
      "[35]\ttest-rmse:0.192929\ttrain-rmse:0.179696\n",
      "[36]\ttest-rmse:0.192959\ttrain-rmse:0.179457\n",
      "[37]\ttest-rmse:0.192694\ttrain-rmse:0.178956\n",
      "[38]\ttest-rmse:0.192413\ttrain-rmse:0.178401\n",
      "[39]\ttest-rmse:0.192277\ttrain-rmse:0.177961\n",
      "[40]\ttest-rmse:0.192123\ttrain-rmse:0.177662\n",
      "[41]\ttest-rmse:0.192068\ttrain-rmse:0.177415\n",
      "[42]\ttest-rmse:0.19128\ttrain-rmse:0.176552\n",
      "[43]\ttest-rmse:0.19085\ttrain-rmse:0.17607\n",
      "[44]\ttest-rmse:0.190042\ttrain-rmse:0.175282\n",
      "[45]\ttest-rmse:0.189774\ttrain-rmse:0.174957\n",
      "[46]\ttest-rmse:0.189431\ttrain-rmse:0.17467\n",
      "[47]\ttest-rmse:0.18903\ttrain-rmse:0.174014\n",
      "[48]\ttest-rmse:0.188818\ttrain-rmse:0.173562\n",
      "[49]\ttest-rmse:0.188564\ttrain-rmse:0.173028\n"
     ]
    }
   ],
   "source": [
    "watchlist  = [(dtest,'test'), (dtrain,'train')]\n",
    "xgb_model = xgb.train(params, dtrain, num_rounds, watchlist)\n"
   ]
  },
  {
   "cell_type": "markdown",
   "metadata": {},
   "source": [
    "Важность признаков (вычисляется на основе того, как часто разбиение делалось по данному признаку):"
   ]
  },
  {
   "cell_type": "code",
   "execution_count": 10,
   "metadata": {
    "scrolled": false
   },
   "outputs": [
    {
     "data": {
      "text/plain": [
       "<matplotlib.axes._subplots.AxesSubplot at 0x5132f90>"
      ]
     },
     "execution_count": 10,
     "metadata": {},
     "output_type": "execute_result"
    },
    {
     "data": {
      "image/png": "[encoded data removed]",
      "text/plain": [
       "<Figure size 432x288 with 1 Axes>"
      ]
     },
     "metadata": {
      "needs_background": "light"
     },
     "output_type": "display_data"
    }
   ],
   "source": [
    "xgb.plot_importance(xgb_model)"
   ]
  },
  {
   "cell_type": "markdown",
   "metadata": {},
   "source": [
    "Результат, корень MSE на тестовом множестве:"
   ]
  },
  {
   "cell_type": "code",
   "execution_count": 11,
   "metadata": {},
   "outputs": [
    {
     "name": "stdout",
     "output_type": "stream",
     "text": [
      "RMSE: 0.19\n",
      "0.641398140750655\n"
     ]
    }
   ],
   "source": [
    "from sklearn.metrics import explained_variance_score\n",
    "predictions = xgb_model.predict(dtest)\n",
    "print(\"RMSE: %.2f\"\n",
    "      % math.sqrt(np.mean((predictions - y_test) ** 2)))\n",
    "print(explained_variance_score(predictions,y_test))"
   ]
  },
  {
   "cell_type": "markdown",
   "metadata": {},
   "source": [
    "Подберем гиперпараметры. Так как объем выборки уже довольно приличный -- сразу запустить грид по всем не выйдет -- умрем отстарости. Будем жадно подбирать параметры. Пусть деревьев будет 100 (опять же в силу вычислительной сложности)."
   ]
  },
  {
   "cell_type": "code",
   "execution_count": 12,
   "metadata": {},
   "outputs": [],
   "source": [
    "params_rate = {\n",
    "    'learning_rate': np.arange(0.01, 0.3, 0.01)\n",
    "}"
   ]
  },
  {
   "cell_type": "code",
   "execution_count": 13,
   "metadata": {},
   "outputs": [
    {
     "name": "stderr",
     "output_type": "stream",
     "text": [
      "c:\\users\\user\\appdata\\local\\programs\\python\\python37-32\\lib\\site-packages\\xgboost\\core.py:587: FutureWarning: Series.base is deprecated and will be removed in a future version\n",
      "  if getattr(data, 'base', None) is not None and \\\n"
     ]
    },
    {
     "name": "stdout",
     "output_type": "stream",
     "text": [
      "0.7588111152118313\n",
      "{'learning_rate': 0.29000000000000004}\n"
     ]
    }
   ],
   "source": [
    "gsearch_rate = GridSearchCV(xgb.XGBRegressor(n_estimators=100,objective='reg:squarederror'),\n",
    "                        param_grid = params_rate,n_jobs=4,iid=False, cv=3)\n",
    "gsearch_rate.fit(X_train,y_train)\n",
    "print(gsearch_rate.best_score_)\n",
    "print(gsearch_rate.best_params_)"
   ]
  },
  {
   "cell_type": "markdown",
   "metadata": {},
   "source": [
    "Получили значение на конце, так что изменим границы."
   ]
  },
  {
   "cell_type": "code",
   "execution_count": 14,
   "metadata": {},
   "outputs": [
    {
     "name": "stdout",
     "output_type": "stream",
     "text": [
      "0.770100559082764\n",
      "{'learning_rate': 0.44999999999999996}\n"
     ]
    }
   ],
   "source": [
    "params_rate = {\n",
    "    'learning_rate': np.arange(0.3, 0.6, 0.05)\n",
    "}\n",
    "gsearch_rate = GridSearchCV(xgb.XGBRegressor(n_estimators=100,objective='reg:squarederror'),\n",
    "                        param_grid = params_rate,n_jobs=4,iid=False, cv=3)\n",
    "gsearch_rate.fit(X_train,y_train)\n",
    "print(gsearch_rate.best_score_)\n",
    "print(gsearch_rate.best_params_)"
   ]
  },
  {
   "cell_type": "markdown",
   "metadata": {},
   "source": [
    "Теперь сразу подбираем max_depth и min_child_weight:"
   ]
  },
  {
   "cell_type": "code",
   "execution_count": 15,
   "metadata": {},
   "outputs": [
    {
     "name": "stdout",
     "output_type": "stream",
     "text": [
      "0.7874443371419155\n",
      "{'max_depth': 7, 'min_child_weight': 5}\n"
     ]
    }
   ],
   "source": [
    "param_test1 = {\n",
    " 'max_depth':range(2,9,1),\n",
    " 'min_child_weight':range(1,7,1)\n",
    "}\n",
    "gsearch_mm = GridSearchCV(xgb.XGBRegressor(n_estimators=100,objective='reg:squarederror',learning_rate=0.45),\n",
    "                        param_grid = param_test1,n_jobs=4,iid=False, cv=3)\n",
    "gsearch_mm.fit(X_train,y_train)\n",
    "print(gsearch_mm.best_score_)\n",
    "print(gsearch_mm.best_params_)"
   ]
  },
  {
   "cell_type": "code",
   "execution_count": 16,
   "metadata": {},
   "outputs": [
    {
     "name": "stdout",
     "output_type": "stream",
     "text": [
      "0.7874443371419155\n",
      "{'gamma': 0.0}\n"
     ]
    }
   ],
   "source": [
    "param_gamma = {\n",
    "    'gamma':[i/10.0 for i in range(0,5)]\n",
    "}\n",
    "gsearch_gamma = GridSearchCV(xgb.XGBRegressor(n_estimators=100,objective='reg:squarederror',learning_rate=0.45,\n",
    "                                           max_depth=7,min_child_weight=5),\n",
    "                        param_grid = param_gamma,n_jobs=4,iid=False, cv=3)\n",
    "gsearch_gamma.fit(X_train,y_train)\n",
    "print(gsearch_gamma.best_score_)\n",
    "print(gsearch_gamma.best_params_)"
   ]
  },
  {
   "cell_type": "code",
   "execution_count": 17,
   "metadata": {},
   "outputs": [
    {
     "name": "stdout",
     "output_type": "stream",
     "text": [
      "0.7724761162962449\n",
      "{'reg_alpha': 1, 'reg_lambda': 0.1}\n"
     ]
    }
   ],
   "source": [
    "param_reg = {\n",
    " 'reg_alpha':[1e-5, 1e-2, 0.1, 1, 100],\n",
    " 'reg_lambda':[1e-5, 1e-2, 0.1, 1, 100]\n",
    "}\n",
    "gsearch_reg = GridSearchCV(xgb.XGBRegressor(n_estimators=100,objective='reg:squarederror',learning_rate=0.45),\n",
    "                        param_grid = param_reg,n_jobs=4,iid=False, cv=3)\n",
    "gsearch_reg.fit(X_train,y_train)\n",
    "print(gsearch_reg.best_score_)\n",
    "print(gsearch_reg.best_params_)"
   ]
  },
  {
   "cell_type": "markdown",
   "metadata": {},
   "source": [
    "Итоговая модель на тестовых данных:"
   ]
  },
  {
   "cell_type": "code",
   "execution_count": 18,
   "metadata": {},
   "outputs": [
    {
     "name": "stdout",
     "output_type": "stream",
     "text": [
      "test RMSE: 0.16\n",
      "0.771391532148467\n"
     ]
    }
   ],
   "source": [
    "#best_model = xgb.XGBRegressor(max_depth =7,min_child_weight=5,gamma=0, learning_rate=0.45,#то же самое, что и ниже\n",
    "#                              n_estimators=100,objective='reg:squarederror',\n",
    "#                               reg_alpha=1, reg_lambda=0.1)\n",
    "#best_model.fit(X_train, y_train)\n",
    "params_best={\n",
    "    'max_depth':7,\n",
    "    'min_child_weight':5,\n",
    "    'gamma':0, \n",
    "    'learning_rate':0.45,              \n",
    "    'objective':'reg:squarederror',                \n",
    "    'reg_alpha':1, \n",
    "    'reg_lambda':0.1\n",
    "}\n",
    "watchlist  = [(dtest,'test'), (dtrain,'train')]\n",
    "evals_result={}\n",
    "best_model=xgb.train(params_best,dtrain, 100,watchlist,evals_result=evals_result,verbose_eval=0)\n",
    "\n",
    "predictions  = best_model.predict(dtest)\n",
    "print(\"test RMSE: %.2f\"\n",
    "      % math.sqrt(np.mean((predictions - y_test) ** 2)))\n",
    "print(explained_variance_score(predictions,y_test))\n"
   ]
  },
  {
   "cell_type": "markdown",
   "metadata": {},
   "source": [
    "RMSE действительно стала меньше, хоть и не то чтобы очень сильно (было 0.19, стало 0.16)."
   ]
  },
  {
   "cell_type": "markdown",
   "metadata": {},
   "source": [
    "Ошибка по итерациям:"
   ]
  },
  {
   "cell_type": "code",
   "execution_count": 19,
   "metadata": {},
   "outputs": [
    {
     "data": {
      "image/png": "[encoded data removed]",
      "text/plain": [
       "<Figure size 576x360 with 1 Axes>"
      ]
     },
     "metadata": {
      "needs_background": "light"
     },
     "output_type": "display_data"
    }
   ],
   "source": [
    "plt.figure(figsize=(8,5))\n",
    "plt.plot(range(0,100),pd.DataFrame(evals_result['train']), label = \"train-error\")\n",
    "plt.plot(range(0,100),pd.DataFrame(evals_result['test']), label = \"test-error\")\n",
    "plt.xlabel(\"number of iteration\")\n",
    "plt.ylabel(\"RMSE\")\n",
    "plt.title(\"RMSE by iterations\")\n",
    "plt.legend()\n",
    "plt.show()\n"
   ]
  },
  {
   "cell_type": "code",
   "execution_count": 20,
   "metadata": {},
   "outputs": [
    {
     "data": {
      "text/plain": [
       "<matplotlib.axes._subplots.AxesSubplot at 0xf70de70>"
      ]
     },
     "execution_count": 20,
     "metadata": {},
     "output_type": "execute_result"
    },
    {
     "data": {
      "image/png": "[encoded data removed]",
      "text/plain": [
       "<Figure size 432x288 with 1 Axes>"
      ]
     },
     "metadata": {
      "needs_background": "light"
     },
     "output_type": "display_data"
    }
   ],
   "source": [
    "xgb.plot_importance(best_model)"
   ]
  },
  {
   "cell_type": "markdown",
   "metadata": {},
   "source": [
    "Сравним с Random Forest:"
   ]
  },
  {
   "cell_type": "code",
   "execution_count": 21,
   "metadata": {},
   "outputs": [
    {
     "name": "stdout",
     "output_type": "stream",
     "text": [
      "test RMSE: 0.1658\n",
      "0.70257329633782\n"
     ]
    }
   ],
   "source": [
    "rf = RandomForestRegressor(n_estimators=100,\n",
    "                               warm_start=True, oob_score=True,\n",
    "                               max_features=\"sqrt\",\n",
    "                               random_state=3)\n",
    "rf.fit(X_train, y_train)\n",
    "y_pred_test = rf.predict(X_test)\n",
    "print(\"test RMSE: %.4f\"\n",
    "      % math.sqrt(np.mean((y_pred_test - y_test) ** 2)))\n",
    "print(explained_variance_score(y_pred_test,y_test))\n"
   ]
  },
  {
   "cell_type": "markdown",
   "metadata": {},
   "source": [
    "Надо бы тоже параметры подобрать, а то нечестно..."
   ]
  },
  {
   "cell_type": "code",
   "execution_count": 22,
   "metadata": {},
   "outputs": [
    {
     "name": "stdout",
     "output_type": "stream",
     "text": [
      "0.7912554235406484\n",
      "{'min_samples_leaf': 1, 'min_samples_split': 4}\n"
     ]
    }
   ],
   "source": [
    "param_test1 = {\n",
    "   'min_samples_leaf':range(1,8,2),\n",
    "   'min_samples_split':range(2,30,2)\n",
    "}\n",
    "gsearch_mm = GridSearchCV(RandomForestRegressor(n_estimators=100,\n",
    "                               warm_start=True, oob_score=True,random_state=3, max_features=\"sqrt\"),\n",
    "                        param_grid = param_test1,n_jobs=4,iid=False, cv=3)\n",
    "gsearch_mm.fit(X_train,y_train)\n",
    "print(gsearch_mm.best_score_)\n",
    "print(gsearch_mm.best_params_)"
   ]
  },
  {
   "cell_type": "markdown",
   "metadata": {},
   "source": [
    "Итого:"
   ]
  },
  {
   "cell_type": "code",
   "execution_count": 24,
   "metadata": {},
   "outputs": [
    {
     "name": "stdout",
     "output_type": "stream",
     "text": [
      "Test RMSE: 0.1661\n",
      "0.6973524050023753\n"
     ]
    }
   ],
   "source": [
    "rf = RandomForestRegressor(n_estimators=100,\n",
    "                               warm_start=True, oob_score=True,\n",
    "                               max_features=\"sqrt\",\n",
    "                               random_state=3,min_samples_leaf=1,min_samples_split=4)\n",
    "rf.fit(X_train, y_train)\n",
    "y_pred_test = rf.predict(X_test)\n",
    "print(\"Test RMSE: %.4f\"\n",
    "      % math.sqrt(np.mean((y_pred_test - y_test) ** 2)))\n",
    "print(explained_variance_score(y_pred_test,y_test))"
   ]
  },
  {
   "cell_type": "markdown",
   "metadata": {},
   "source": [
    "На самом деле rmse от этого особо и не уменьшилось. Тут скорее проблема в том, что 100 деревьев -- мало для Random Forest."
   ]
  },
  {
   "cell_type": "markdown",
   "metadata": {},
   "source": [
    "<h3> Парная регрессия</h3> \n",
    "\n",
    "Попробуем предсказать цену дома только по признаку 'median_income'."
   ]
  },
  {
   "cell_type": "code",
   "execution_count": 8,
   "metadata": {},
   "outputs": [],
   "source": [
    "df1=df[['median_income','median_house_value']]\n",
    "df1.head()\n",
    "X_train, X_test, y_train, y_test = train_test_split(df1.drop('median_house_value', axis=1), df1['median_house_value'],\n",
    "                                                    test_size=0.3,random_state=17)\n",
    "dtrain = xgb.DMatrix(X_train, y_train)\n",
    "dtest = xgb.DMatrix(X_test, y_test)\n"
   ]
  },
  {
   "cell_type": "code",
   "execution_count": 9,
   "metadata": {},
   "outputs": [],
   "source": [
    "params = {\n",
    "    'objective':'reg:linear',\n",
    "    'max_depth':3,\n",
    "    'silent':1,\n",
    "    'eta':0.5\n",
    "}\n",
    "num_rounds = 50"
   ]
  },
  {
   "cell_type": "code",
   "execution_count": 27,
   "metadata": {
    "scrolled": true
   },
   "outputs": [
    {
     "name": "stdout",
     "output_type": "stream",
     "text": [
      "[0]\ttest-rmse:0.412905\ttrain-rmse:0.411891\n",
      "[1]\ttest-rmse:0.325669\ttrain-rmse:0.325913\n",
      "[2]\ttest-rmse:0.299795\ttrain-rmse:0.300309\n",
      "[3]\ttest-rmse:0.292937\ttrain-rmse:0.293255\n",
      "[4]\ttest-rmse:0.291245\ttrain-rmse:0.291238\n",
      "[5]\ttest-rmse:0.290838\ttrain-rmse:0.290627\n",
      "[6]\ttest-rmse:0.290747\ttrain-rmse:0.290379\n",
      "[7]\ttest-rmse:0.290976\ttrain-rmse:0.290117\n",
      "[8]\ttest-rmse:0.291025\ttrain-rmse:0.289998\n",
      "[9]\ttest-rmse:0.291061\ttrain-rmse:0.289896\n",
      "[10]\ttest-rmse:0.291086\ttrain-rmse:0.289829\n",
      "[11]\ttest-rmse:0.291083\ttrain-rmse:0.289752\n",
      "[12]\ttest-rmse:0.291146\ttrain-rmse:0.289708\n",
      "[13]\ttest-rmse:0.291114\ttrain-rmse:0.289553\n",
      "[14]\ttest-rmse:0.291107\ttrain-rmse:0.289513\n",
      "[15]\ttest-rmse:0.291162\ttrain-rmse:0.289484\n",
      "[16]\ttest-rmse:0.291345\ttrain-rmse:0.289359\n",
      "[17]\ttest-rmse:0.291367\ttrain-rmse:0.289214\n",
      "[18]\ttest-rmse:0.291376\ttrain-rmse:0.289152\n",
      "[19]\ttest-rmse:0.291417\ttrain-rmse:0.28898\n",
      "[20]\ttest-rmse:0.291511\ttrain-rmse:0.288791\n",
      "[21]\ttest-rmse:0.291521\ttrain-rmse:0.288588\n",
      "[22]\ttest-rmse:0.291561\ttrain-rmse:0.288407\n",
      "[23]\ttest-rmse:0.291699\ttrain-rmse:0.28819\n",
      "[24]\ttest-rmse:0.291609\ttrain-rmse:0.288055\n",
      "[25]\ttest-rmse:0.291615\ttrain-rmse:0.28803\n",
      "[26]\ttest-rmse:0.291618\ttrain-rmse:0.287982\n",
      "[27]\ttest-rmse:0.291651\ttrain-rmse:0.287965\n",
      "[28]\ttest-rmse:0.291703\ttrain-rmse:0.28767\n",
      "[29]\ttest-rmse:0.291721\ttrain-rmse:0.287502\n",
      "[30]\ttest-rmse:0.291786\ttrain-rmse:0.287183\n",
      "[31]\ttest-rmse:0.291783\ttrain-rmse:0.287058\n",
      "[32]\ttest-rmse:0.291871\ttrain-rmse:0.286866\n",
      "[33]\ttest-rmse:0.2919\ttrain-rmse:0.286644\n",
      "[34]\ttest-rmse:0.292029\ttrain-rmse:0.286425\n",
      "[35]\ttest-rmse:0.292229\ttrain-rmse:0.286248\n",
      "[36]\ttest-rmse:0.29228\ttrain-rmse:0.286197\n",
      "[37]\ttest-rmse:0.292395\ttrain-rmse:0.286052\n",
      "[38]\ttest-rmse:0.292411\ttrain-rmse:0.285964\n",
      "[39]\ttest-rmse:0.292545\ttrain-rmse:0.285822\n",
      "[40]\ttest-rmse:0.292605\ttrain-rmse:0.285766\n",
      "[41]\ttest-rmse:0.292644\ttrain-rmse:0.285463\n",
      "[42]\ttest-rmse:0.292646\ttrain-rmse:0.285377\n",
      "[43]\ttest-rmse:0.292727\ttrain-rmse:0.285241\n",
      "[44]\ttest-rmse:0.292843\ttrain-rmse:0.285016\n",
      "[45]\ttest-rmse:0.292929\ttrain-rmse:0.284871\n",
      "[46]\ttest-rmse:0.292962\ttrain-rmse:0.284747\n",
      "[47]\ttest-rmse:0.293024\ttrain-rmse:0.284581\n",
      "[48]\ttest-rmse:0.293046\ttrain-rmse:0.284411\n",
      "[49]\ttest-rmse:0.293181\ttrain-rmse:0.284236\n"
     ]
    }
   ],
   "source": [
    "watchlist  = [(dtest,'test'), (dtrain,'train')] \n",
    "ev={}\n",
    "xgb_model = xgb.train(params, dtrain, num_rounds, watchlist,evals_result=ev)"
   ]
  },
  {
   "cell_type": "code",
   "execution_count": 11,
   "metadata": {},
   "outputs": [],
   "source": [
    "preds_prob = xgb_model.predict(dtest)"
   ]
  },
  {
   "cell_type": "code",
   "execution_count": 29,
   "metadata": {
    "scrolled": false
   },
   "outputs": [
    {
     "data": {
      "image/png": "[encoded data removed]",
      "text/plain": [
       "<Figure size 576x360 with 1 Axes>"
      ]
     },
     "metadata": {
      "needs_background": "light"
     },
     "output_type": "display_data"
    }
   ],
   "source": [
    "plt.figure(figsize=(8,5))\n",
    "plt.plot(X_test,y_test,'o')\n",
    "plt.xlabel(\"median_income\")\n",
    "plt.ylabel(\"median_house_value\")\n",
    "plt.plot(X_test,preds_prob,'.',c='orange')\n",
    "plt.show()\n"
   ]
  },
  {
   "cell_type": "code",
   "execution_count": 21,
   "metadata": {},
   "outputs": [
    {
     "data": {
      "image/png": "[encoded data removed]",
      "text/plain": [
       "<Figure size 576x360 with 1 Axes>"
      ]
     },
     "metadata": {
      "needs_background": "light"
     },
     "output_type": "display_data"
    }
   ],
   "source": [
    "plt.figure(figsize=(8,5))\n",
    "plt.plot(range(0,50),pd.DataFrame(ev['train']), label = \"train-error\")\n",
    "plt.plot(range(0,50),pd.DataFrame(ev['test']), label = \"test-error\")\n",
    "plt.xlabel(\"number of iteration\")\n",
    "plt.ylabel(\"RMSE\")\n",
    "plt.title(\"RMSE by iterations\")\n",
    "plt.legend()\n",
    "plt.show()"
   ]
  },
  {
   "cell_type": "code",
   "execution_count": 29,
   "metadata": {},
   "outputs": [
    {
     "name": "stdout",
     "output_type": "stream",
     "text": [
      "[ 0.1163735  -0.26672251 -0.20059032 ...  0.1923344  -0.2241731\n",
      "  0.22168837]\n"
     ]
    },
    {
     "data": {
      "text/plain": [
       "0.3776521472822447"
      ]
     },
     "execution_count": 29,
     "metadata": {},
     "output_type": "execute_result"
    }
   ],
   "source": [
    "from sklearn.linear_model import LinearRegression\n",
    "from sklearn import  tree, linear_model\n",
    "regr = linear_model.LinearRegression()\n",
    "regr.fit(X_train, y_train)\n",
    "print(regr.predict(X_test))\n",
    "regr.score(X_test,y_test)"
   ]
  },
  {
   "cell_type": "code",
   "execution_count": 26,
   "metadata": {},
   "outputs": [
    {
     "data": {
      "image/png": "[encoded data removed]",
      "text/plain": [
       "<Figure size 576x360 with 1 Axes>"
      ]
     },
     "metadata": {
      "needs_background": "light"
     },
     "output_type": "display_data"
    }
   ],
   "source": [
    "plt.figure(figsize=(8,5))\n",
    "plt.plot(X_test,y_test,'o')\n",
    "plt.xlabel(\"median_income\")\n",
    "plt.ylabel(\"median_house_value\")\n",
    "plt.plot(X_test,regr.predict(X_test),'b',c='blue')\n",
    "plt.plot(X_test,preds_prob,'.',c='orange')\n",
    "plt.show()\n"
   ]
  },
  {
   "cell_type": "markdown",
   "metadata": {},
   "source": [
    "Здесь синие точки -- это реальные значения признаков, оранжевые -- boosting-предсказание признака median_house_value по признаку median_incomeб синяяя линия -- линейная регрессия. Просто картинка, чтобы посмотреть, как выглядят предсказания по бустингу."
   ]
  },
  {
   "cell_type": "markdown",
   "metadata": {},
   "source": [
    "<h2> Классификация</h2>"
   ]
  },
  {
   "cell_type": "code",
   "execution_count": 4,
   "metadata": {
    "scrolled": true
   },
   "outputs": [
    {
     "data": {
      "text/html": [
       "<div>\n",
       "<style scoped>\n",
       "    .dataframe tbody tr th:only-of-type {\n",
       "        vertical-align: middle;\n",
       "    }\n",
       "\n",
       "    .dataframe tbody tr th {\n",
       "        vertical-align: top;\n",
       "    }\n",
       "\n",
       "    .dataframe thead th {\n",
       "        text-align: right;\n",
       "    }\n",
       "</style>\n",
       "<table border=\"1\" class=\"dataframe\">\n",
       "  <thead>\n",
       "    <tr style=\"text-align: right;\">\n",
       "      <th></th>\n",
       "      <th>age</th>\n",
       "      <th>sex</th>\n",
       "      <th>cp</th>\n",
       "      <th>trestbps</th>\n",
       "      <th>chol</th>\n",
       "      <th>fbs</th>\n",
       "      <th>restecg</th>\n",
       "      <th>thalach</th>\n",
       "      <th>exang</th>\n",
       "      <th>oldpeak</th>\n",
       "      <th>slope</th>\n",
       "      <th>ca</th>\n",
       "      <th>thal</th>\n",
       "      <th>target</th>\n",
       "    </tr>\n",
       "  </thead>\n",
       "  <tbody>\n",
       "    <tr>\n",
       "      <th>0</th>\n",
       "      <td>63</td>\n",
       "      <td>1</td>\n",
       "      <td>3</td>\n",
       "      <td>145</td>\n",
       "      <td>233</td>\n",
       "      <td>1</td>\n",
       "      <td>0</td>\n",
       "      <td>150</td>\n",
       "      <td>0</td>\n",
       "      <td>2.3</td>\n",
       "      <td>0</td>\n",
       "      <td>0</td>\n",
       "      <td>1</td>\n",
       "      <td>1</td>\n",
       "    </tr>\n",
       "    <tr>\n",
       "      <th>1</th>\n",
       "      <td>37</td>\n",
       "      <td>1</td>\n",
       "      <td>2</td>\n",
       "      <td>130</td>\n",
       "      <td>250</td>\n",
       "      <td>0</td>\n",
       "      <td>1</td>\n",
       "      <td>187</td>\n",
       "      <td>0</td>\n",
       "      <td>3.5</td>\n",
       "      <td>0</td>\n",
       "      <td>0</td>\n",
       "      <td>2</td>\n",
       "      <td>1</td>\n",
       "    </tr>\n",
       "    <tr>\n",
       "      <th>2</th>\n",
       "      <td>41</td>\n",
       "      <td>0</td>\n",
       "      <td>1</td>\n",
       "      <td>130</td>\n",
       "      <td>204</td>\n",
       "      <td>0</td>\n",
       "      <td>0</td>\n",
       "      <td>172</td>\n",
       "      <td>0</td>\n",
       "      <td>1.4</td>\n",
       "      <td>2</td>\n",
       "      <td>0</td>\n",
       "      <td>2</td>\n",
       "      <td>1</td>\n",
       "    </tr>\n",
       "    <tr>\n",
       "      <th>3</th>\n",
       "      <td>56</td>\n",
       "      <td>1</td>\n",
       "      <td>1</td>\n",
       "      <td>120</td>\n",
       "      <td>236</td>\n",
       "      <td>0</td>\n",
       "      <td>1</td>\n",
       "      <td>178</td>\n",
       "      <td>0</td>\n",
       "      <td>0.8</td>\n",
       "      <td>2</td>\n",
       "      <td>0</td>\n",
       "      <td>2</td>\n",
       "      <td>1</td>\n",
       "    </tr>\n",
       "    <tr>\n",
       "      <th>4</th>\n",
       "      <td>57</td>\n",
       "      <td>0</td>\n",
       "      <td>0</td>\n",
       "      <td>120</td>\n",
       "      <td>354</td>\n",
       "      <td>0</td>\n",
       "      <td>1</td>\n",
       "      <td>163</td>\n",
       "      <td>1</td>\n",
       "      <td>0.6</td>\n",
       "      <td>2</td>\n",
       "      <td>0</td>\n",
       "      <td>2</td>\n",
       "      <td>1</td>\n",
       "    </tr>\n",
       "  </tbody>\n",
       "</table>\n",
       "</div>"
      ],
      "text/plain": [
       "   age  sex  cp  trestbps  chol  fbs  restecg  thalach  exang  oldpeak  slope  \\\n",
       "0   63    1   3       145   233    1        0      150      0      2.3      0   \n",
       "1   37    1   2       130   250    0        1      187      0      3.5      0   \n",
       "2   41    0   1       130   204    0        0      172      0      1.4      2   \n",
       "3   56    1   1       120   236    0        1      178      0      0.8      2   \n",
       "4   57    0   0       120   354    0        1      163      1      0.6      2   \n",
       "\n",
       "   ca  thal  target  \n",
       "0   0     1       1  \n",
       "1   0     2       1  \n",
       "2   0     2       1  \n",
       "3   0     2       1  \n",
       "4   0     2       1  "
      ]
     },
     "execution_count": 4,
     "metadata": {},
     "output_type": "execute_result"
    }
   ],
   "source": [
    "heart=pd.read_csv('heart.csv')\n",
    "heart.head()"
   ]
  },
  {
   "cell_type": "markdown",
   "metadata": {},
   "source": [
    "Данные очень небольшого объема: 303. Диагностируем заболевание сердца.\n",
    "\n",
    "Разобъем на тренировочную и тестовую выборки:"
   ]
  },
  {
   "cell_type": "code",
   "execution_count": 5,
   "metadata": {},
   "outputs": [],
   "source": [
    "X = heart[heart.columns[heart.columns != 'target']]\n",
    "y = heart.target\n",
    "x_train, x_test, y_train, y_test = train_test_split(X, heart.target, test_size=0.33,random_state=2)"
   ]
  },
  {
   "cell_type": "markdown",
   "metadata": {},
   "source": [
    "<h3> Градиентный бустинг"
   ]
  },
  {
   "cell_type": "markdown",
   "metadata": {},
   "source": [
    "Запустим для начала просто с параметрами по умолчанию:"
   ]
  },
  {
   "cell_type": "code",
   "execution_count": 36,
   "metadata": {},
   "outputs": [
    {
     "data": {
      "text/plain": [
       "XGBClassifier(base_score=0.5, booster='gbtree', colsample_bylevel=1,\n",
       "              colsample_bynode=1, colsample_bytree=1, gamma=0,\n",
       "              learning_rate=0.1, max_delta_step=0, max_depth=3,\n",
       "              min_child_weight=1, missing=None, n_estimators=100, n_jobs=1,\n",
       "              nthread=None, objective='binary:logistic', random_state=0,\n",
       "              reg_alpha=0, reg_lambda=1, scale_pos_weight=1, seed=None,\n",
       "              silent=None, subsample=1, verbosity=1)"
      ]
     },
     "execution_count": 36,
     "metadata": {},
     "output_type": "execute_result"
    }
   ],
   "source": [
    "xgb.XGBClassifier()"
   ]
  },
  {
   "cell_type": "code",
   "execution_count": 37,
   "metadata": {},
   "outputs": [
    {
     "name": "stdout",
     "output_type": "stream",
     "text": [
      "CV-accuracy:  0.7737804878048781\n"
     ]
    }
   ],
   "source": [
    "model = xgb.XGBClassifier()\n",
    "model.fit(x_train, y_train)\n",
    "score=cross_val_score(model,x_train,y_train,scoring='accuracy',cv=5)\n",
    "print('CV-accuracy: ',statistics.mean(score))"
   ]
  },
  {
   "cell_type": "code",
   "execution_count": 38,
   "metadata": {},
   "outputs": [
    {
     "name": "stdout",
     "output_type": "stream",
     "text": [
      "    0   1\n",
      "0  32  11\n",
      "1   4  53\n",
      "Test Accuracy: 85.00%\n"
     ]
    }
   ],
   "source": [
    "y_pred = model.predict(x_test)\n",
    "predictions = [round(value) for value in y_pred]\n",
    "conf_mat = metrics.confusion_matrix(y_test, predictions)\n",
    "conf_mat = pd.DataFrame(conf_mat, index=model.classes_, columns=model.classes_)\n",
    "print(conf_mat)\n",
    "accuracy = accuracy_score(y_test, predictions)\n",
    "print(\"Test Accuracy: %.2f%%\" % (accuracy * 100.0))\n"
   ]
  },
  {
   "cell_type": "markdown",
   "metadata": {},
   "source": [
    "Accuracy на тесте больше, чем по кросс-валидации. Везение."
   ]
  },
  {
   "cell_type": "markdown",
   "metadata": {},
   "source": [
    "То же самое через xgb.train (иногда удобнее использовать его напрямую):"
   ]
  },
  {
   "cell_type": "code",
   "execution_count": 39,
   "metadata": {},
   "outputs": [
    {
     "name": "stdout",
     "output_type": "stream",
     "text": [
      "Accuracy: 85.00%\n"
     ]
    },
    {
     "name": "stderr",
     "output_type": "stream",
     "text": [
      "c:\\users\\user\\appdata\\local\\programs\\python\\python37-32\\lib\\site-packages\\xgboost\\core.py:587: FutureWarning: Series.base is deprecated and will be removed in a future version\n",
      "  if getattr(data, 'base', None) is not None and \\\n"
     ]
    }
   ],
   "source": [
    "dtrain_h = xgb.DMatrix(x_train, y_train)\n",
    "dtest_h = xgb.DMatrix(x_test, y_test)\n",
    "params_h = {\n",
    "    'objective':'binary:logistic',\n",
    "    'max_depth':3,\n",
    "    'silent':1\n",
    "}\n",
    "num_rounds = 50\n",
    "xgb_model_h = xgb.train(params_h, dtrain_h, num_rounds)\n",
    "preds_prob_h = xgb_model_h.predict(dtest_h)\n",
    "predictions = [round(value) for value in preds_prob_h]\n",
    "accuracy = accuracy_score(y_test, predictions)\n",
    "print(\"Accuracy: %.2f%%\" % (accuracy * 100.0))\n"
   ]
  },
  {
   "cell_type": "markdown",
   "metadata": {},
   "source": [
    "Попробуем подобрать параметры и улучшить результат. "
   ]
  },
  {
   "cell_type": "code",
   "execution_count": 40,
   "metadata": {},
   "outputs": [],
   "source": [
    "n_trees=[1]+list(range(10,105,2))\n",
    "scoring=[]\n",
    "for n_tree in n_trees:\n",
    "    #estimator=xgb.XGBClassifier(n_estimators=n_tree,max_depth =3, learning_rate=0.1,\n",
    "                            # objective='binary:logistic',\n",
    "                             # booster='gbtree',random_state=1)\n",
    "    #estimator.fit(x_train, y_train)\n",
    "    estimator=xgb.XGBClassifier(n_estimators=n_tree,max_depth =3, learning_rate=0.1)\n",
    "    score=cross_val_score(estimator,x_train,y_train,scoring='accuracy',cv=3)\n",
    "    scoring.append(score)\n",
    "scoring=np.asmatrix(scoring)\n",
    "   "
   ]
  },
  {
   "cell_type": "code",
   "execution_count": 42,
   "metadata": {},
   "outputs": [
    {
     "data": {
      "image/png": "[encoded data removed]",
      "text/plain": [
       "<Figure size 576x360 with 1 Axes>"
      ]
     },
     "metadata": {
      "needs_background": "light"
     },
     "output_type": "display_data"
    }
   ],
   "source": [
    "plt.figure(figsize=(8,5))\n",
    "plt.plot(n_trees,scoring.mean(axis=1), label = \"cv-acc\",marker='.')\n",
    "plt.xlabel(\"n_estimators\")\n",
    "plt.ylabel(\"Score\")\n",
    "plt.title(\"Accuracy score\")\n",
    "plt.legend()\n",
    "plt.show()"
   ]
  },
  {
   "cell_type": "markdown",
   "metadata": {},
   "source": [
    "<h4>С набором случайных разбиений на test-train:</h4>"
   ]
  },
  {
   "cell_type": "markdown",
   "metadata": {},
   "source": [
    "Так как объем выборки очень маленький, нельзя особо полагаться на результат, который показывает метод на тестовой выборке. Поэтому рассмотрим K разбиений на тренировочную и тестовую выборку, подберем параметры для каждой из них (в силу небольшого объема выборки параметры подбираем нежадно) и возьмем среднюю ошибку."
   ]
  },
  {
   "cell_type": "code",
   "execution_count": 51,
   "metadata": {
    "scrolled": true
   },
   "outputs": [
    {
     "name": "stderr",
     "output_type": "stream",
     "text": [
      "c:\\users\\user\\appdata\\local\\programs\\python\\python37-32\\lib\\site-packages\\xgboost\\core.py:587: FutureWarning: Series.base is deprecated and will be removed in a future version\n",
      "  if getattr(data, 'base', None) is not None and \\\n",
      "c:\\users\\user\\appdata\\local\\programs\\python\\python37-32\\lib\\site-packages\\xgboost\\core.py:587: FutureWarning: Series.base is deprecated and will be removed in a future version\n",
      "  if getattr(data, 'base', None) is not None and \\\n",
      "c:\\users\\user\\appdata\\local\\programs\\python\\python37-32\\lib\\site-packages\\xgboost\\core.py:587: FutureWarning: Series.base is deprecated and will be removed in a future version\n",
      "  if getattr(data, 'base', None) is not None and \\\n",
      "c:\\users\\user\\appdata\\local\\programs\\python\\python37-32\\lib\\site-packages\\xgboost\\core.py:587: FutureWarning: Series.base is deprecated and will be removed in a future version\n",
      "  if getattr(data, 'base', None) is not None and \\\n"
     ]
    },
    {
     "name": "stdout",
     "output_type": "stream",
     "text": [
      "0.8200000000000001\n"
     ]
    }
   ],
   "source": [
    "import statistics \n",
    "num_rounds = 30\n",
    "K=10\n",
    "accuracy_general=[]\n",
    "for i in range(1,K,1):\n",
    "    X_train, X_test, y_train, y_test = train_test_split(X, heart.target, test_size=0.33,random_state=i)\n",
    "    dtrain_h = xgb.DMatrix(X_train, y_train)\n",
    "    dtest_h = xgb.DMatrix(X_test, y_test)\n",
    "    params_h = {\n",
    "        'objective':['binary:logistic'],\n",
    "        'learning_rate':[i/100.0 for i in range(1,25,5)],\n",
    "         'max_depth':[1,2,3],\n",
    "         'reg_alpha':[1e-2, 0.1, 1],\n",
    "         'reg_lambda':[1e-2, 0.1, 1],\n",
    "         'min_child_weight':range(1,6,1),\n",
    "         'gamma':[i/10.0 for i in range(0,5)],\n",
    "         'subsample':[i/10.0 for i in range(6,12,2)]\n",
    "    }\n",
    "    gsearch_h = GridSearchCV(xgb.XGBClassifier(n_estimators=30),\n",
    "                        param_grid = params_h,n_jobs=4,iid=False, cv=3, scoring='roc_auc')\n",
    "    gsearch_h.fit(X_train,y_train)\n",
    "    best_parameters=gsearch_h.best_params_\n",
    "    xgb_model=xgb.train(best_parameters,dtrain_h, num_rounds)\n",
    "    preds_prob_h = xgb_model.predict(dtest_h)\n",
    "    predictions = [round(value) for value in preds_prob_h]\n",
    "    accuracy = accuracy_score(y_test, predictions)\n",
    "    accuracy_general.append(accuracy)\n",
    "print(statistics.mean(accuracy_general))\n",
    "    "
   ]
  },
  {
   "cell_type": "markdown",
   "metadata": {},
   "source": [
    "Так как с Randomforest сравнение уже проводили для регрессии, тут ограничимся сравнением ошибки на кросс-валидации этих методов с параметрами по умолчанию."
   ]
  },
  {
   "cell_type": "code",
   "execution_count": 52,
   "metadata": {},
   "outputs": [
    {
     "name": "stderr",
     "output_type": "stream",
     "text": [
      "c:\\users\\user\\appdata\\local\\programs\\python\\python37-32\\lib\\site-packages\\xgboost\\core.py:587: FutureWarning: Series.base is deprecated and will be removed in a future version\n",
      "  if getattr(data, 'base', None) is not None and \\\n"
     ]
    },
    {
     "name": "stdout",
     "output_type": "stream",
     "text": [
      "CV-error XGBoost:  0.215585648\n"
     ]
    }
   ],
   "source": [
    "X = heart[heart.columns[heart.columns != 'target']]\n",
    "y = heart.target\n",
    "x_train, x_test, y_train, y_test = train_test_split(X, heart.target, test_size=0.33,random_state=2)\n",
    "dtrain=xgb.DMatrix(x_train, y_train)\n",
    "num_rounds = 100\n",
    "params = {\n",
    "    'objective':'binary:logistic',\n",
    "    'learning_rate':0.1,\n",
    "    'max_depth':2\n",
    "}\n",
    "hist = xgb.cv(params, dtrain, num_rounds, nfold=10, metrics={'error'}, seed=42)\n",
    "print('CV-error XGBoost: ',statistics.mean(hist['test-error-mean']))\n",
    "#print(metrics.classification_report(y_test, y_pred_test))"
   ]
  },
  {
   "cell_type": "markdown",
   "metadata": {},
   "source": [
    " Random Forest можно записать через бустинг так, например:"
   ]
  },
  {
   "cell_type": "code",
   "execution_count": 53,
   "metadata": {},
   "outputs": [
    {
     "name": "stdout",
     "output_type": "stream",
     "text": [
      "CV-error RandomForest:  0.220857069\n"
     ]
    }
   ],
   "source": [
    "params_RF={\n",
    "    'colsample_bynode': 0.8,\n",
    "    'learning_rate': 1,\n",
    "    'max_depth': 5,\n",
    "    'num_parallel_tree': 100,\n",
    "    'objective': 'binary:logistic',\n",
    "    'subsample': 0.8,\n",
    "    'tree_method': 'hist'   \n",
    "}\n",
    "hist_RF = xgb.cv(params_RF, dtrain, num_rounds, nfold=10, metrics={'error'}, seed=42)\n",
    "print('CV-error RandomForest: ',statistics.mean(hist_RF['test-error-mean']))"
   ]
  },
  {
   "cell_type": "markdown",
   "metadata": {},
   "source": [
    "<h3>Adabust</h3>\n",
    "\n",
    "В sklearn доступны алгоритмы AdaBoost и GradientBoosting для задач классификации и регрессии. Они более медленные, чем методы пакета XGBoost и менее гибкие (но иногда их проще применять)."
   ]
  },
  {
   "cell_type": "code",
   "execution_count": 6,
   "metadata": {},
   "outputs": [],
   "source": [
    "from sklearn.ensemble import AdaBoostClassifier\n",
    "classifier = AdaBoostClassifier(\n",
    "    DecisionTreeClassifier()\n",
    ")"
   ]
  },
  {
   "cell_type": "code",
   "execution_count": 7,
   "metadata": {},
   "outputs": [
    {
     "name": "stdout",
     "output_type": "stream",
     "text": [
      "CV-error Adaboost 0.30048872180451125\n"
     ]
    }
   ],
   "source": [
    "classifier.fit(x_train, y_train)\n",
    "score=cross_val_score(classifier,x_train,y_train,scoring='accuracy',cv=10)\n",
    "print('CV-error Adaboost', 1-statistics.mean(score))"
   ]
  }
 ],
 "metadata": {
  "kernelspec": {
   "display_name": "Python 3",
   "language": "python",
   "name": "python3"
  },
  "language_info": {
   "codemirror_mode": {
    "name": "ipython",
    "version": 3
   },
   "file_extension": ".py",
   "mimetype": "text/x-python",
   "name": "python",
   "nbconvert_exporter": "python",
   "pygments_lexer": "ipython3",
   "version": "3.7.4"
  }
 },
 "nbformat": 4,
 "nbformat_minor": 2
}
