{
 "cells": [
  {
   "cell_type": "code",
   "execution_count": 1,
   "metadata": {},
   "outputs": [],
   "source": [
    "import numpy as np \n",
    "import pandas as pd\n",
    "import warnings\n",
    "warnings.filterwarnings('ignore')\n",
    "import seaborn as sns\n",
    "import altair as alt\n",
    "import matplotlib.pyplot as plt"
   ]
  },
  {
   "cell_type": "code",
   "execution_count": 2,
   "metadata": {},
   "outputs": [],
   "source": [
    "data=pd.read_csv(\"./data1.csv\")"
   ]
  },
  {
   "cell_type": "markdown",
   "metadata": {},
   "source": [
    "Данные представляют собой характеристики мобильных телефонов, разделенные по диапазону цен."
   ]
  },
  {
   "cell_type": "markdown",
   "metadata": {},
   "source": [
    "некоторые признаки, которые могут быть непонятны\n",
    "\n",
    "1) battery_power - ёмкость \n",
    "\n",
    "2) blue - блютуз есть/нет\n",
    "\n",
    "3) clock_speed - скорость процессора\n",
    "\n",
    "4) fc - разрешение фронтальной камеры\n",
    "\n",
    "5) int_memory - объем внутренней памяти\n",
    "\n",
    "6) m_dep - рамки экрана\n",
    "\n",
    "7) pc - разрешение основной камеры\n",
    "\n",
    "\n"
   ]
  },
  {
   "cell_type": "code",
   "execution_count": 3,
   "metadata": {},
   "outputs": [
    {
     "data": {
      "text/html": [
       "<div>\n",
       "<style scoped>\n",
       "    .dataframe tbody tr th:only-of-type {\n",
       "        vertical-align: middle;\n",
       "    }\n",
       "\n",
       "    .dataframe tbody tr th {\n",
       "        vertical-align: top;\n",
       "    }\n",
       "\n",
       "    .dataframe thead th {\n",
       "        text-align: right;\n",
       "    }\n",
       "</style>\n",
       "<table border=\"1\" class=\"dataframe\">\n",
       "  <thead>\n",
       "    <tr style=\"text-align: right;\">\n",
       "      <th></th>\n",
       "      <th>battery_power</th>\n",
       "      <th>blue</th>\n",
       "      <th>clock_speed</th>\n",
       "      <th>dual_sim</th>\n",
       "      <th>fc</th>\n",
       "      <th>four_g</th>\n",
       "      <th>int_memory</th>\n",
       "      <th>m_dep</th>\n",
       "      <th>mobile_wt</th>\n",
       "      <th>n_cores</th>\n",
       "      <th>...</th>\n",
       "      <th>px_height</th>\n",
       "      <th>px_width</th>\n",
       "      <th>ram</th>\n",
       "      <th>sc_h</th>\n",
       "      <th>sc_w</th>\n",
       "      <th>talk_time</th>\n",
       "      <th>three_g</th>\n",
       "      <th>touch_screen</th>\n",
       "      <th>wifi</th>\n",
       "      <th>price_range</th>\n",
       "    </tr>\n",
       "  </thead>\n",
       "  <tbody>\n",
       "    <tr>\n",
       "      <td>0</td>\n",
       "      <td>842</td>\n",
       "      <td>0</td>\n",
       "      <td>2.2</td>\n",
       "      <td>0</td>\n",
       "      <td>1</td>\n",
       "      <td>0</td>\n",
       "      <td>7</td>\n",
       "      <td>0.6</td>\n",
       "      <td>188</td>\n",
       "      <td>2</td>\n",
       "      <td>...</td>\n",
       "      <td>20</td>\n",
       "      <td>756</td>\n",
       "      <td>2549</td>\n",
       "      <td>9</td>\n",
       "      <td>7</td>\n",
       "      <td>19</td>\n",
       "      <td>0</td>\n",
       "      <td>0</td>\n",
       "      <td>1</td>\n",
       "      <td>1</td>\n",
       "    </tr>\n",
       "    <tr>\n",
       "      <td>1</td>\n",
       "      <td>1021</td>\n",
       "      <td>1</td>\n",
       "      <td>0.5</td>\n",
       "      <td>1</td>\n",
       "      <td>0</td>\n",
       "      <td>1</td>\n",
       "      <td>53</td>\n",
       "      <td>0.7</td>\n",
       "      <td>136</td>\n",
       "      <td>3</td>\n",
       "      <td>...</td>\n",
       "      <td>905</td>\n",
       "      <td>1988</td>\n",
       "      <td>2631</td>\n",
       "      <td>17</td>\n",
       "      <td>3</td>\n",
       "      <td>7</td>\n",
       "      <td>1</td>\n",
       "      <td>1</td>\n",
       "      <td>0</td>\n",
       "      <td>2</td>\n",
       "    </tr>\n",
       "    <tr>\n",
       "      <td>2</td>\n",
       "      <td>563</td>\n",
       "      <td>1</td>\n",
       "      <td>0.5</td>\n",
       "      <td>1</td>\n",
       "      <td>2</td>\n",
       "      <td>1</td>\n",
       "      <td>41</td>\n",
       "      <td>0.9</td>\n",
       "      <td>145</td>\n",
       "      <td>5</td>\n",
       "      <td>...</td>\n",
       "      <td>1263</td>\n",
       "      <td>1716</td>\n",
       "      <td>2603</td>\n",
       "      <td>11</td>\n",
       "      <td>2</td>\n",
       "      <td>9</td>\n",
       "      <td>1</td>\n",
       "      <td>1</td>\n",
       "      <td>0</td>\n",
       "      <td>2</td>\n",
       "    </tr>\n",
       "    <tr>\n",
       "      <td>3</td>\n",
       "      <td>615</td>\n",
       "      <td>1</td>\n",
       "      <td>2.5</td>\n",
       "      <td>0</td>\n",
       "      <td>0</td>\n",
       "      <td>0</td>\n",
       "      <td>10</td>\n",
       "      <td>0.8</td>\n",
       "      <td>131</td>\n",
       "      <td>6</td>\n",
       "      <td>...</td>\n",
       "      <td>1216</td>\n",
       "      <td>1786</td>\n",
       "      <td>2769</td>\n",
       "      <td>16</td>\n",
       "      <td>8</td>\n",
       "      <td>11</td>\n",
       "      <td>1</td>\n",
       "      <td>0</td>\n",
       "      <td>0</td>\n",
       "      <td>2</td>\n",
       "    </tr>\n",
       "    <tr>\n",
       "      <td>4</td>\n",
       "      <td>1821</td>\n",
       "      <td>1</td>\n",
       "      <td>1.2</td>\n",
       "      <td>0</td>\n",
       "      <td>13</td>\n",
       "      <td>1</td>\n",
       "      <td>44</td>\n",
       "      <td>0.6</td>\n",
       "      <td>141</td>\n",
       "      <td>2</td>\n",
       "      <td>...</td>\n",
       "      <td>1208</td>\n",
       "      <td>1212</td>\n",
       "      <td>1411</td>\n",
       "      <td>8</td>\n",
       "      <td>2</td>\n",
       "      <td>15</td>\n",
       "      <td>1</td>\n",
       "      <td>1</td>\n",
       "      <td>0</td>\n",
       "      <td>1</td>\n",
       "    </tr>\n",
       "  </tbody>\n",
       "</table>\n",
       "<p>5 rows × 21 columns</p>\n",
       "</div>"
      ],
      "text/plain": [
       "   battery_power  blue  clock_speed  dual_sim  fc  four_g  int_memory  m_dep  \\\n",
       "0            842     0          2.2         0   1       0           7    0.6   \n",
       "1           1021     1          0.5         1   0       1          53    0.7   \n",
       "2            563     1          0.5         1   2       1          41    0.9   \n",
       "3            615     1          2.5         0   0       0          10    0.8   \n",
       "4           1821     1          1.2         0  13       1          44    0.6   \n",
       "\n",
       "   mobile_wt  n_cores  ...  px_height  px_width   ram  sc_h  sc_w  talk_time  \\\n",
       "0        188        2  ...         20       756  2549     9     7         19   \n",
       "1        136        3  ...        905      1988  2631    17     3          7   \n",
       "2        145        5  ...       1263      1716  2603    11     2          9   \n",
       "3        131        6  ...       1216      1786  2769    16     8         11   \n",
       "4        141        2  ...       1208      1212  1411     8     2         15   \n",
       "\n",
       "   three_g  touch_screen  wifi  price_range  \n",
       "0        0             0     1            1  \n",
       "1        1             1     0            2  \n",
       "2        1             1     0            2  \n",
       "3        1             0     0            2  \n",
       "4        1             1     0            1  \n",
       "\n",
       "[5 rows x 21 columns]"
      ]
     },
     "execution_count": 3,
     "metadata": {},
     "output_type": "execute_result"
    }
   ],
   "source": [
    "data.head()"
   ]
  },
  {
   "cell_type": "code",
   "execution_count": 4,
   "metadata": {},
   "outputs": [
    {
     "data": {
      "text/plain": [
       "Text(0.5, 1.0, 'Распределение зависимой переменной')"
      ]
     },
     "execution_count": 4,
     "metadata": {},
     "output_type": "execute_result"
    },
    {
     "data": {
      "image/png": "[encoded data removed]",
      "text/plain": [
       "<Figure size 432x288 with 1 Axes>"
      ]
     },
     "metadata": {
      "needs_background": "light"
     },
     "output_type": "display_data"
    }
   ],
   "source": [
    "from sklearn.model_selection import train_test_split\n",
    "x_tr, x_ts = train_test_split(data,test_size = 0.4,random_state=1)\n",
    "x_train = (x_tr.drop([\"price_range\"],axis=1) - np.min(x_tr.drop([\"price_range\"],axis=1)))/(np.max(x_tr.drop([\"price_range\"],axis=1) - np.min(x_tr.drop([\"price_range\"],axis=1)) ))\n",
    "x_test = (x_ts.drop([\"price_range\"],axis=1) - np.min(x_ts.drop([\"price_range\"],axis=1))) / (np.max(x_ts.drop([\"price_range\"],axis=1))-np.min(x_ts.drop([\"price_range\"],axis=1)))\n",
    "y_train = x_tr[\"price_range\"].values\n",
    "y_test = x_ts[\"price_range\"].values\n",
    "x_tr['price_range'].value_counts().plot(kind='bar')\n",
    "plt.xlabel('Значение переменной price_rage')\n",
    "plt.ylabel('Количество значений')\n",
    "plt.title('Распределение зависимой переменной')"
   ]
  },
  {
   "cell_type": "code",
   "execution_count": 5,
   "metadata": {},
   "outputs": [
    {
     "data": {
      "text/plain": [
       "Text(0.5, 1, 'Correlation ')"
      ]
     },
     "execution_count": 5,
     "metadata": {},
     "output_type": "execute_result"
    },
    {
     "data": {
      "image/png": "[encoded data removed]",
      "text/plain": [
       "<Figure size 1080x864 with 2 Axes>"
      ]
     },
     "metadata": {
      "needs_background": "light"
     },
     "output_type": "display_data"
    }
   ],
   "source": [
    "\n",
    "corr=x_train.corr()\n",
    "fig = plt.figure(figsize=(15,12))\n",
    "r = sns.heatmap(corr, cmap='Purples')\n",
    "r.set_title(\"Correlation \")"
   ]
  },
  {
   "cell_type": "markdown",
   "metadata": {},
   "source": [
    "# F1_score(average=[micro, macro, weighted]), дисбаланс классов"
   ]
  },
  {
   "cell_type": "markdown",
   "metadata": {},
   "source": [
    "По поводу параметра $\\textbf{average}$ в функции $\\textbf{f1_score}$:\n",
    "\n",
    "- weighted - вычисляет оценку f1 для каждого класса независимо, но при сложении использует веса, которые зависят от размер класса. $\\textbf{F1_{class1} * W_{1} + F1_{class2} * W_{2} + ... + F1_{classN} * W_{N}}$.\n",
    "\n",
    "- micro - вычисляет оценку не учитывая баланс классов. $\\textbf{F1_{class1 + class2 + class3}}$.\n",
    "\n",
    "- macro - вычисляет F1, разделенный по классу, но не используя веса. $\\textbf{F1_{class1} + ... + F1_{classN}}$.\n",
    "\n",
    "При дисбалансе классов лучше всего использовать $\\textbf{macro}$. \n",
    "\n",
    "Так как у нас нет явного дисбаланса, то на результат работы F1_score этот параметр сильно не повлият (проверил). Дисбаланс wine проверим в соответствующем разделе."
   ]
  },
  {
   "cell_type": "markdown",
   "metadata": {},
   "source": [
    "Применим метод SVM с различными ядрами (линейное, полиномиальное, сигмоид, RBF-ядро(сеть радиальных базичных функций))"
   ]
  },
  {
   "cell_type": "code",
   "execution_count": 6,
   "metadata": {},
   "outputs": [
    {
     "name": "stdout",
     "output_type": "stream",
     "text": [
      "train accuracy: 0.9533333333333334\n",
      "test accuracy: 0.92625\n"
     ]
    },
    {
     "data": {
      "text/plain": [
       "0.9270607829784884"
      ]
     },
     "execution_count": 6,
     "metadata": {},
     "output_type": "execute_result"
    }
   ],
   "source": [
    "from sklearn.svm import SVC\n",
    "from sklearn.metrics import f1_score\n",
    "svm_l=SVC(kernel = \"linear\")\n",
    "svm_l.fit(x_train,y_train)\n",
    "print(\"train accuracy:\",svm_l.score(x_train,y_train))\n",
    "print(\"test accuracy:\",svm_l.score(x_test,y_test))\n",
    "f1_score(y_test, svm_l.predict(x_test), average='macro') "
   ]
  },
  {
   "cell_type": "code",
   "execution_count": 7,
   "metadata": {},
   "outputs": [
    {
     "name": "stdout",
     "output_type": "stream",
     "text": [
      "train accuracy: 0.445\n",
      "test accuracy: 0.40125\n"
     ]
    },
    {
     "data": {
      "text/plain": [
       "0.33318393476029773"
      ]
     },
     "execution_count": 7,
     "metadata": {},
     "output_type": "execute_result"
    }
   ],
   "source": [
    "svm_p=SVC(kernel = \"poly\") #gamma: 1/(n_features * X.var ()), по умолчанию 1/n_features (признаки) x_var дисперсия\n",
    "svm_p.fit(x_train,y_train)\n",
    "print(\"train accuracy:\",svm_p.score(x_train,y_train))\n",
    "print(\"test accuracy:\",svm_p.score(x_test,y_test))\n",
    "f1_score(y_test, svm_p.predict(x_test), average='macro')"
   ]
  },
  {
   "cell_type": "code",
   "execution_count": 8,
   "metadata": {},
   "outputs": [
    {
     "name": "stdout",
     "output_type": "stream",
     "text": [
      "train accuracy: 0.8158333333333333\n",
      "test accuracy: 0.7825\n"
     ]
    },
    {
     "data": {
      "text/plain": [
       "0.7884888240275374"
      ]
     },
     "execution_count": 8,
     "metadata": {},
     "output_type": "execute_result"
    }
   ],
   "source": [
    "svm_s=SVC(kernel = \"sigmoid\")\n",
    "svm_s.fit(x_train,y_train)\n",
    "print(\"train accuracy:\",svm_s.score(x_train,y_train))\n",
    "print(\"test accuracy:\",svm_s.score(x_test,y_test))\n",
    "f1_score(y_test, svm_s.predict(x_test), average='macro')"
   ]
  },
  {
   "cell_type": "code",
   "execution_count": 9,
   "metadata": {},
   "outputs": [
    {
     "name": "stdout",
     "output_type": "stream",
     "text": [
      "train accuracy: 0.8975\n",
      "test accuracy: 0.8475\n"
     ]
    },
    {
     "data": {
      "text/plain": [
       "0.8519655314373275"
      ]
     },
     "execution_count": 9,
     "metadata": {},
     "output_type": "execute_result"
    }
   ],
   "source": [
    "svm_rbf=SVC(kernel = \"rbf\")\n",
    "svm_rbf.fit(x_train,y_train)\n",
    "print(\"train accuracy:\",svm_rbf.score(x_train,y_train))\n",
    "print(\"test accuracy:\",svm_rbf.score(x_test,y_test))\n",
    "f1_score(y_test, svm_rbf.predict(x_test), average='macro')"
   ]
  },
  {
   "cell_type": "markdown",
   "metadata": {},
   "source": [
    "# Feature Selection по параметрам"
   ]
  },
  {
   "cell_type": "code",
   "execution_count": 10,
   "metadata": {},
   "outputs": [],
   "source": [
    "from sklearn.model_selection import GridSearchCV\n",
    "\n",
    "C=[1,0.1,0.25,0.5,2,0.75]\n",
    "kernel=[\"linear\", \"poly\",\"rbf\", \"sigmoid\"]\n",
    "gamma=[\"auto\",0.01,0.001,0.0001,1]\n",
    "decision_function_shape=[\"ovo\",\"ovr\"]"
   ]
  },
  {
   "cell_type": "code",
   "execution_count": 11,
   "metadata": {},
   "outputs": [
    {
     "name": "stdout",
     "output_type": "stream",
     "text": [
      "best score:  0.9383333333333334\n",
      "best param:  {'C': 2, 'decision_function_shape': 'ovo', 'gamma': 'auto', 'kernel': 'linear'}\n"
     ]
    }
   ],
   "source": [
    "svm=SVC()\n",
    "grid_svm=GridSearchCV(estimator=svm,cv=5,param_grid=dict(kernel=kernel,C=C, gamma=gamma, decision_function_shape=decision_function_shape))\n",
    "grid_svm.fit(x_train,y_train)\n",
    "print(\"best score: \", grid_svm.best_score_)\n",
    "print(\"best param: \", grid_svm.best_params_)"
   ]
  },
  {
   "cell_type": "markdown",
   "metadata": {},
   "source": [
    "# WINE"
   ]
  },
  {
   "cell_type": "markdown",
   "metadata": {},
   "source": [
    "Поскольку продыдущая команда проверяла точность с помощью roc_auc, то добавил эту метрику. "
   ]
  },
  {
   "cell_type": "code",
   "execution_count": 64,
   "metadata": {},
   "outputs": [],
   "source": [
    "x_train_w = pd.read_csv('x_train_transform_log.csv', sep=\",\")\n",
    "y_train_w = pd.read_csv('y_train.csv', sep=\",\")\n",
    "x_test_w = pd.read_csv('x_test_transform_log.csv', sep=\",\")\n",
    "y_test_w = pd.read_csv('y_test.csv', sep=\",\")"
   ]
  },
  {
   "cell_type": "code",
   "execution_count": 33,
   "metadata": {},
   "outputs": [
    {
     "data": {
      "text/plain": [
       "((5197, 12), (5197, 1), (1300, 12), (1300, 1))"
      ]
     },
     "execution_count": 33,
     "metadata": {},
     "output_type": "execute_result"
    }
   ],
   "source": [
    "x_train_w.shape, y_train_w.shape, x_test_w.shape, y_test_w.shape"
   ]
  },
  {
   "cell_type": "code",
   "execution_count": 79,
   "metadata": {},
   "outputs": [
    {
     "name": "stdout",
     "output_type": "stream",
     "text": [
      "train accuracy: 0.7179141812584183\n",
      "test accuracy: 0.7176923076923077\n",
      "f1_score:  0.6606470822121742\n",
      "roc_auc:  0.7416786398467433\n"
     ]
    }
   ],
   "source": [
    "from sklearn.metrics import roc_auc_score\n",
    "svm_l_w=SVC(kernel = \"linear\", class_weight='balanced') \n",
    "svm_l_w.fit(x_train_w,y_train_w)\n",
    "print(\"train accuracy:\",svm_l_w.score(x_train_w,y_train_w))\n",
    "print(\"test accuracy:\",svm_l_w.score(x_test_w,y_test_w))\n",
    "print(\"f1_score: \", f1_score(y_test_w, svm_l_w.predict(x_test_w), average='macro'))\n",
    "print(\"roc_auc: \", roc_auc_score(y_test_w, svm_l_w.predict(x_test_w)))"
   ]
  },
  {
   "cell_type": "code",
   "execution_count": 80,
   "metadata": {},
   "outputs": [
    {
     "name": "stdout",
     "output_type": "stream",
     "text": [
      "train accuracy: 0.7523571291129498\n",
      "test accuracy: 0.7453846153846154\n",
      "f1_score:  0.6891324968880741\n",
      "roc_auc:  0.7707136015325671\n"
     ]
    }
   ],
   "source": [
    "svm_p_w=SVC(kernel = \"poly\", gamma = \"scale\", class_weight='balanced') #gamma: 1/(n_features * X.var ()), по умолчанию 1/n_features (признаки) x_var дисперсия\n",
    "svm_p_w.fit(x_train_w,y_train_w)\n",
    "print(\"train accuracy:\",svm_p_w.score(x_train_w,y_train_w))\n",
    "print(\"test accuracy:\",svm_p_w.score(x_test_w,y_test_w))\n",
    "print(\"f1_score: \", f1_score(y_test_w, svm_p_w.predict(x_test_w), average='macro'))\n",
    "print(\"roc_auc: \", roc_auc_score(y_test_w, svm_p_w.predict(x_test_w)))"
   ]
  },
  {
   "cell_type": "code",
   "execution_count": 81,
   "metadata": {},
   "outputs": [
    {
     "name": "stdout",
     "output_type": "stream",
     "text": [
      "train accuracy: 0.7200307869924957\n",
      "test accuracy: 0.7215384615384616\n",
      "f1_score:  0.661364787694575\n",
      "roc_auc:  0.7367022868773947\n"
     ]
    }
   ],
   "source": [
    "svm_s_w=SVC(kernel = \"sigmoid\", class_weight='balanced')\n",
    "svm_s_w.fit(x_train_w,y_train_w)\n",
    "print(\"train accuracy:\",svm_s_w.score(x_train_w,y_train_w))\n",
    "print(\"test accuracy:\",svm_s_w.score(x_test_w,y_test_w))\n",
    "print(\"f1_score: \", f1_score(y_test_w, svm_s_w.predict(x_test_w), average='macro'))\n",
    "print(\"roc_auc: \", roc_auc_score(y_test_w, svm_s_w.predict(x_test_w)))"
   ]
  },
  {
   "cell_type": "code",
   "execution_count": 82,
   "metadata": {},
   "outputs": [
    {
     "name": "stdout",
     "output_type": "stream",
     "text": [
      "train accuracy: 0.7229170675389648\n",
      "test accuracy: 0.7223076923076923\n",
      "f1_score: 0.6636206403464571\n",
      "roc_auc: 0.7416038074712643\n"
     ]
    }
   ],
   "source": [
    "svm_rbf_w=SVC(kernel = \"rbf\", class_weight='balanced')\n",
    "svm_rbf_w.fit(x_train_w,y_train_w)\n",
    "print(\"train accuracy:\",svm_rbf_w.score(x_train_w,y_train_w))\n",
    "print(\"test accuracy:\",svm_rbf_w.score(x_test_w,y_test_w))\n",
    "print(\"f1_score:\", f1_score(y_test_w, svm_rbf_w.predict(x_test_w), average='macro'))\n",
    "print(\"roc_auc:\", roc_auc_score(y_test_w, svm_rbf_w.predict(x_test_w)))"
   ]
  },
  {
   "cell_type": "code",
   "execution_count": 69,
   "metadata": {},
   "outputs": [],
   "source": [
    "from sklearn.model_selection import cross_val_score\n",
    "from sklearn.metrics import roc_auc_score\n",
    "\n",
    "def LogReg(estimator, X_train, y_train, X_test, y_test, name):\n",
    "    logreg = estimator\n",
    "    logreg.fit(X_train, y_train)\n",
    "    score_train = logreg.score(X_train, y_train)\n",
    "    score_test = logreg.score(X_test, y_test)\n",
    "    predictionsLOGIT = logreg.predict(X_test)\n",
    "    roc_auc=roc_auc_score(y_test,predictionsLOGIT)\n",
    "    data=pd.DataFrame((score_train,score_test,roc_auc), \n",
    "                 index = ['score_train','score_test','roc_auc'],columns = [name]) \n",
    "    return(data) "
   ]
  },
  {
   "cell_type": "code",
   "execution_count": 83,
   "metadata": {},
   "outputs": [],
   "source": [
    "svm_trans = LogReg(svm_p_w, x_train_w, y_train_w, x_test_w, y_test_w, name='svm')"
   ]
  },
  {
   "cell_type": "code",
   "execution_count": 65,
   "metadata": {},
   "outputs": [
    {
     "data": {
      "text/plain": [
       "Pipeline(memory=None,\n",
       "         steps=[('selector',\n",
       "                 RFE(estimator=LogisticRegression(C=100.0,\n",
       "                                                  class_weight='balanced',\n",
       "                                                  dual=False,\n",
       "                                                  fit_intercept=True,\n",
       "                                                  intercept_scaling=1,\n",
       "                                                  l1_ratio=None, max_iter=70,\n",
       "                                                  multi_class='warn',\n",
       "                                                  n_jobs=None, penalty='l1',\n",
       "                                                  random_state=None,\n",
       "                                                  solver='warn', tol=0.0001,\n",
       "                                                  verbose=0, warm_start=False),\n",
       "                     n_features_to_select=12, step=1, verbose=0)),\n",
       "                ('estimator',\n",
       "                 LogisticRegression(C=100.0, class_weight='balanced',\n",
       "                                    dual=False, fit_intercept=True,\n",
       "                                    intercept_scaling=1, l1_ratio=None,\n",
       "                                    max_iter=70, multi_class='warn',\n",
       "                                    n_jobs=None, penalty='l1',\n",
       "                                    random_state=None, solver='warn',\n",
       "                                    tol=0.0001, verbose=0, warm_start=False))],\n",
       "         verbose=False)"
      ]
     },
     "execution_count": 65,
     "metadata": {},
     "output_type": "execute_result"
    }
   ],
   "source": [
    "from sklearn.pipeline import Pipeline\n",
    "from sklearn.linear_model import LogisticRegression\n",
    "from sklearn.feature_selection import RFE\n",
    "\n",
    "lr = LogisticRegression(class_weight=\"balanced\")\n",
    "rfe = RFE(lr)\n",
    "lr_selector = Pipeline([('selector', rfe),\n",
    "                      ('estimator', lr)])\n",
    "\n",
    "best_grid = {'estimator__C': 100.0,\n",
    "  'estimator__max_iter': 70,\n",
    "  'estimator__penalty': 'l1',\n",
    "  'selector__n_features_to_select': 12}\n",
    "\n",
    "lr_selector.set_params(**best_grid)"
   ]
  },
  {
   "cell_type": "code",
   "execution_count": 84,
   "metadata": {},
   "outputs": [
    {
     "data": {
      "text/html": [
       "<div>\n",
       "<style scoped>\n",
       "    .dataframe tbody tr th:only-of-type {\n",
       "        vertical-align: middle;\n",
       "    }\n",
       "\n",
       "    .dataframe tbody tr th {\n",
       "        vertical-align: top;\n",
       "    }\n",
       "\n",
       "    .dataframe thead th {\n",
       "        text-align: right;\n",
       "    }\n",
       "</style>\n",
       "<table border=\"1\" class=\"dataframe\">\n",
       "  <thead>\n",
       "    <tr style=\"text-align: right;\">\n",
       "      <th></th>\n",
       "      <th>lr</th>\n",
       "      <th>svm</th>\n",
       "    </tr>\n",
       "  </thead>\n",
       "  <tbody>\n",
       "    <tr>\n",
       "      <td>score_train</td>\n",
       "      <td>0.726188</td>\n",
       "      <td>0.752357</td>\n",
       "    </tr>\n",
       "    <tr>\n",
       "      <td>score_test</td>\n",
       "      <td>0.726154</td>\n",
       "      <td>0.745385</td>\n",
       "    </tr>\n",
       "    <tr>\n",
       "      <td>roc_auc</td>\n",
       "      <td>0.742524</td>\n",
       "      <td>0.770714</td>\n",
       "    </tr>\n",
       "  </tbody>\n",
       "</table>\n",
       "</div>"
      ],
      "text/plain": [
       "                   lr       svm\n",
       "score_train  0.726188  0.752357\n",
       "score_test   0.726154  0.745385\n",
       "roc_auc      0.742524  0.770714"
      ]
     },
     "execution_count": 84,
     "metadata": {},
     "output_type": "execute_result"
    }
   ],
   "source": [
    "from sklearn.linear_model import LogisticRegression\n",
    "lr_trans = LogReg(lr_selector, x_train_w, y_train_w, x_test_w, y_test_w, name='lr')\n",
    "pd.concat([lr_trans, svm_trans], axis=1)"
   ]
  },
  {
   "cell_type": "markdown",
   "metadata": {},
   "source": [
    "Судя по таблице svm работает точнее"
   ]
  },
  {
   "cell_type": "code",
   "execution_count": null,
   "metadata": {},
   "outputs": [],
   "source": []
  }
 ],
 "metadata": {
  "kernelspec": {
   "display_name": "Python 3",
   "language": "python",
   "name": "python3"
  },
  "language_info": {
   "codemirror_mode": {
    "name": "ipython",
    "version": 3
   },
   "file_extension": ".py",
   "mimetype": "text/x-python",
   "name": "python",
   "nbconvert_exporter": "python",
   "pygments_lexer": "ipython3",
   "version": "3.7.0"
  }
 },
 "nbformat": 4,
 "nbformat_minor": 2
}
